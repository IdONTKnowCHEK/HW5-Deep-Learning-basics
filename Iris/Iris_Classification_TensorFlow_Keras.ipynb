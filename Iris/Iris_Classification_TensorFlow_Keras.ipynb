{
 "cells": [
  {
   "cell_type": "markdown",
   "id": "94124abe",
   "metadata": {},
   "source": [
    "# Iris Classification with TensorFlow Keras"
   ]
  },
  {
   "cell_type": "markdown",
   "id": "f71eb269",
   "metadata": {},
   "source": [
    "This notebook demonstrates how to classify the Iris dataset using a simple feed-forward neural network built with TensorFlow Keras. TensorBoard is used for visualizing the training progress.\n"
   ]
  },
  {
   "cell_type": "code",
   "execution_count": null,
   "id": "6a84d50d",
   "metadata": {},
   "outputs": [],
   "source": [
    "import tensorflow as tf\n",
    "from sklearn.datasets import load_iris\n",
    "from sklearn.model_selection import train_test_split\n",
    "from sklearn.preprocessing import OneHotEncoder, StandardScaler\n",
    "import os\n"
   ]
  },
  {
   "cell_type": "code",
   "execution_count": null,
   "id": "1ac0113c",
   "metadata": {},
   "outputs": [],
   "source": [
    "# Load and preprocess data\n",
    "iris = load_iris()\n",
    "X = iris.data\n",
    "y = iris.target.reshape(-1, 1)\n",
    "\n",
    "encoder = OneHotEncoder()\n",
    "y = encoder.fit_transform(y).toarray()\n",
    "\n",
    "scaler = StandardScaler()\n",
    "X = scaler.fit_transform(X)\n",
    "\n",
    "X_train, X_test, y_train, y_test = train_test_split(X, y, test_size=0.2, random_state=42)\n"
   ]
  },
  {
   "cell_type": "code",
   "execution_count": null,
   "id": "5796317b",
   "metadata": {},
   "outputs": [],
   "source": [
    "# Define the model\n",
    "model = tf.keras.Sequential([\n",
    "    tf.keras.layers.Dense(10, activation='relu', input_shape=(4,)),\n",
    "    tf.keras.layers.Dense(10, activation='relu'),\n",
    "    tf.keras.layers.Dense(3, activation='softmax')\n",
    "])\n",
    "\n",
    "model.compile(optimizer='adam', \n",
    "              loss='categorical_crossentropy', \n",
    "              metrics=['accuracy'])\n"
   ]
  },
  {
   "cell_type": "code",
   "execution_count": null,
   "id": "397dacab",
   "metadata": {},
   "outputs": [],
   "source": [
    "# Set up TensorBoard\n",
    "log_dir = \"logs/keras_iris\"\n",
    "os.makedirs(log_dir, exist_ok=True)\n",
    "tensorboard_callback = tf.keras.callbacks.TensorBoard(log_dir=log_dir, histogram_freq=1)\n",
    "\n",
    "# Train the model\n",
    "model.fit(X_train, y_train, \n",
    "          validation_data=(X_test, y_test), \n",
    "          epochs=50, \n",
    "          callbacks=[tensorboard_callback], \n",
    "          verbose=0)\n"
   ]
  },
  {
   "cell_type": "code",
   "execution_count": null,
   "id": "aa5f8cdc",
   "metadata": {},
   "outputs": [],
   "source": [
    "# Evaluate the model\n",
    "evaluation = model.evaluate(X_test, y_test, verbose=0)\n",
    "print(f\"Test Loss: {evaluation[0]}, Test Accuracy: {evaluation[1]}\")\n"
   ]
  },
  {
   "cell_type": "markdown",
   "id": "138ff97d",
   "metadata": {},
   "source": [
    "### Visualize TensorBoard\n",
    "To visualize the training logs, run the following command in your terminal:\n",
    "```\n",
    "tensorboard --logdir logs/keras_iris\n",
    "```\n"
   ]
  }
 ],
 "metadata": {},
 "nbformat": 4,
 "nbformat_minor": 5
}
