{
 "cells": [
  {
   "cell_type": "markdown",
   "id": "39353f1e",
   "metadata": {},
   "source": [
    "# Iris Classification with PyTorch Lightning"
   ]
  },
  {
   "cell_type": "markdown",
   "id": "1742cbd2",
   "metadata": {},
   "source": [
    "This notebook demonstrates how to classify the Iris dataset using a simple feed-forward neural network implemented with PyTorch Lightning. TensorBoard is used for visualizing the training progress.\n"
   ]
  },
  {
   "cell_type": "code",
   "execution_count": null,
   "id": "2542f2f4",
   "metadata": {},
   "outputs": [],
   "source": [
    "import pytorch_lightning as pl\n",
    "import torch\n",
    "import torch.nn as nn\n",
    "import torch.nn.functional as F\n",
    "from torch.utils.data import DataLoader, TensorDataset\n",
    "from sklearn.datasets import load_iris\n",
    "from sklearn.model_selection import train_test_split\n",
    "from sklearn.preprocessing import StandardScaler, OneHotEncoder\n"
   ]
  },
  {
   "cell_type": "code",
   "execution_count": null,
   "id": "e73c1fc3",
   "metadata": {},
   "outputs": [],
   "source": [
    "# Load and preprocess data\n",
    "iris = load_iris()\n",
    "X = iris.data\n",
    "y = iris.target.reshape(-1, 1)\n",
    "\n",
    "encoder = OneHotEncoder()\n",
    "y = encoder.fit_transform(y).toarray()\n",
    "\n",
    "scaler = StandardScaler()\n",
    "X = scaler.fit_transform(X)\n",
    "\n",
    "X_train, X_test, y_train, y_test = train_test_split(X, y, test_size=0.2, random_state=42)\n",
    "\n",
    "X_train_tensor = torch.tensor(X_train, dtype=torch.float32)\n",
    "X_test_tensor = torch.tensor(X_test, dtype=torch.float32)\n",
    "y_train_tensor = torch.tensor(y_train, dtype=torch.float32)\n",
    "y_test_tensor = torch.tensor(y_test, dtype=torch.float32)\n",
    "\n",
    "train_dataset = TensorDataset(X_train_tensor, y_train_tensor)\n",
    "test_dataset = TensorDataset(X_test_tensor, y_test_tensor)\n",
    "\n",
    "train_loader = DataLoader(train_dataset, batch_size=16, shuffle=True)\n",
    "test_loader = DataLoader(test_dataset, batch_size=16, shuffle=False)\n"
   ]
  },
  {
   "cell_type": "code",
   "execution_count": null,
   "id": "0c0f3272",
   "metadata": {},
   "outputs": [],
   "source": [
    "# Define Lightning Module\n",
    "class IrisLightningModel(pl.LightningModule):\n",
    "    def __init__(self):\n",
    "        super(IrisLightningModel, self).__init__()\n",
    "        self.fc1 = nn.Linear(4, 10)\n",
    "        self.fc2 = nn.Linear(10, 10)\n",
    "        self.fc3 = nn.Linear(10, 3)\n",
    "\n",
    "    def forward(self, x):\n",
    "        x = F.relu(self.fc1(x))\n",
    "        x = F.relu(self.fc2(x))\n",
    "        x = F.softmax(self.fc3(x), dim=1)\n",
    "        return x\n",
    "\n",
    "    def training_step(self, batch, batch_idx):\n",
    "        X, y = batch\n",
    "        outputs = self(X)\n",
    "        loss = F.cross_entropy(outputs, torch.argmax(y, dim=1))\n",
    "        self.log('train_loss', loss)\n",
    "        return loss\n",
    "\n",
    "    def validation_step(self, batch, batch_idx):\n",
    "        X, y = batch\n",
    "        outputs = self(X)\n",
    "        loss = F.cross_entropy(outputs, torch.argmax(y, dim=1))\n",
    "        self.log('val_loss', loss)\n",
    "        return loss\n",
    "\n",
    "    def configure_optimizers(self):\n",
    "        return torch.optim.Adam(self.parameters(), lr=0.01)\n",
    "\n",
    "# Initialize model\n",
    "model = IrisLightningModel()\n"
   ]
  },
  {
   "cell_type": "code",
   "execution_count": null,
   "id": "ed9ceeeb",
   "metadata": {},
   "outputs": [],
   "source": [
    "# Initialize TensorBoard logger\n",
    "logger = pl.loggers.TensorBoardLogger('logs', name='lightning_iris')\n",
    "\n",
    "# Train the model\n",
    "trainer = pl.Trainer(max_epochs=50, logger=logger, log_every_n_steps=1)\n",
    "trainer.fit(model, train_loader, test_loader)\n",
    "\n",
    "print(\"Training complete. Use TensorBoard to visualize results.\")\n"
   ]
  },
  {
   "cell_type": "markdown",
   "id": "dffa7ed9",
   "metadata": {},
   "source": [
    "### Visualize TensorBoard\n",
    "To visualize the training logs, run the following command in your terminal:\n",
    "```\n",
    "tensorboard --logdir logs/lightning_iris\n",
    "```\n"
   ]
  }
 ],
 "metadata": {},
 "nbformat": 4,
 "nbformat_minor": 5
}
